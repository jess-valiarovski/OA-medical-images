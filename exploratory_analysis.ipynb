{
 "cells": [
  {
   "cell_type": "code",
   "execution_count": 140,
   "id": "0bed0108",
   "metadata": {},
   "outputs": [],
   "source": [
    "import pandas as pd\n",
    "import numpy as np\n"
   ]
  },
  {
   "cell_type": "code",
   "execution_count": 141,
   "id": "c3b5826c",
   "metadata": {},
   "outputs": [],
   "source": [
    "#read in file\n",
    "results = pd.read_csv('1345_customer_results.csv') #medical case results\n",
    "admin = pd.read_csv('1345_admin_reads.csv') #raw individ reads"
   ]
  },
  {
   "cell_type": "code",
   "execution_count": 142,
   "id": "ae1b2be7",
   "metadata": {},
   "outputs": [
    {
     "data": {
      "text/plain": [
       "Case ID                   int64\n",
       "Origin                   object\n",
       "Origin Created At        object\n",
       "Content ID                int64\n",
       "URL                      object\n",
       "Labeling State           object\n",
       "Series                  float64\n",
       "Series Index            float64\n",
       "Patch                   float64\n",
       "Qualified Reads           int64\n",
       "Correct Label            object\n",
       "Majority Label           object\n",
       "Difficulty              float64\n",
       "Agreement               float64\n",
       "First Choice Answer      object\n",
       "First Choice Votes        int64\n",
       "First Choice Weight     float64\n",
       "Second Choice Answer     object\n",
       "Second Choice Votes       int64\n",
       "Second Choice Weight    float64\n",
       "Internal Notes          float64\n",
       "Comments                 object\n",
       "Explanation             float64\n",
       "dtype: object"
      ]
     },
     "execution_count": 142,
     "metadata": {},
     "output_type": "execute_result"
    }
   ],
   "source": [
    "#retrive info on customer dataset\n",
    "results.shape #30293 rows by 23 columns\n",
    "results.dtypes #see the README.md provided\n",
    "\n"
   ]
  },
  {
   "cell_type": "code",
   "execution_count": 143,
   "id": "69cc069a",
   "metadata": {},
   "outputs": [],
   "source": [
    "results = results.dropna(subset=['Origin']) #drops NA; didn't work see 34 astype(int)"
   ]
  },
  {
   "cell_type": "code",
   "execution_count": 144,
   "id": "91f51383",
   "metadata": {},
   "outputs": [],
   "source": [
    "results[\"Expert Votes\"] = results[\"Origin\"].str.extract(r'vote(\\d)').astype(float)"
   ]
  },
  {
   "cell_type": "code",
   "execution_count": 145,
   "id": "4ff659d5",
   "metadata": {},
   "outputs": [],
   "source": [
    "results = results.drop(['Case ID','Origin Created At','Origin','Content ID','URL','Labeling State','Series','Series Index','Patch','Internal Notes','Comments','Explanation'],axis=1)"
   ]
  },
  {
   "cell_type": "raw",
   "id": "94859c77",
   "metadata": {},
   "source": []
  },
  {
   "cell_type": "code",
   "execution_count": 146,
   "id": "0d0c7ad5",
   "metadata": {},
   "outputs": [],
   "source": [
    "results = results[results[\"Qualified Reads\"] != 0] \n",
    "#results[\"Crowd Votes\"] = results[\"Qualified Reads\"] - results[\"Expert Votes\"]\n",
    "#results.rename(columns={'Qualified Reads':'Total Votes'}, inplace= True)"
   ]
  },
  {
   "cell_type": "code",
   "execution_count": 147,
   "id": "b72e530e",
   "metadata": {},
   "outputs": [
    {
     "data": {
      "text/html": [
       "<div>\n",
       "<style scoped>\n",
       "    .dataframe tbody tr th:only-of-type {\n",
       "        vertical-align: middle;\n",
       "    }\n",
       "\n",
       "    .dataframe tbody tr th {\n",
       "        vertical-align: top;\n",
       "    }\n",
       "\n",
       "    .dataframe thead th {\n",
       "        text-align: right;\n",
       "    }\n",
       "</style>\n",
       "<table border=\"1\" class=\"dataframe\">\n",
       "  <thead>\n",
       "    <tr style=\"text-align: right;\">\n",
       "      <th></th>\n",
       "      <th>Qualified Reads</th>\n",
       "      <th>Correct Label</th>\n",
       "      <th>Majority Label</th>\n",
       "      <th>Difficulty</th>\n",
       "      <th>Agreement</th>\n",
       "      <th>First Choice Answer</th>\n",
       "      <th>First Choice Votes</th>\n",
       "      <th>First Choice Weight</th>\n",
       "      <th>Second Choice Answer</th>\n",
       "      <th>Second Choice Votes</th>\n",
       "      <th>Second Choice Weight</th>\n",
       "      <th>Expert Votes</th>\n",
       "    </tr>\n",
       "  </thead>\n",
       "  <tbody>\n",
       "    <tr>\n",
       "      <th>30287</th>\n",
       "      <td>4</td>\n",
       "      <td>'yes'</td>\n",
       "      <td>'yes'</td>\n",
       "      <td>0.000</td>\n",
       "      <td>1.000</td>\n",
       "      <td>'yes'</td>\n",
       "      <td>4</td>\n",
       "      <td>3.18</td>\n",
       "      <td>'no'</td>\n",
       "      <td>0</td>\n",
       "      <td>0.00</td>\n",
       "      <td>5.0</td>\n",
       "    </tr>\n",
       "    <tr>\n",
       "      <th>30288</th>\n",
       "      <td>2</td>\n",
       "      <td>'no'</td>\n",
       "      <td>'yes'</td>\n",
       "      <td>1.000</td>\n",
       "      <td>1.000</td>\n",
       "      <td>'yes'</td>\n",
       "      <td>2</td>\n",
       "      <td>1.56</td>\n",
       "      <td>'no'</td>\n",
       "      <td>0</td>\n",
       "      <td>0.00</td>\n",
       "      <td>2.0</td>\n",
       "    </tr>\n",
       "    <tr>\n",
       "      <th>30289</th>\n",
       "      <td>3</td>\n",
       "      <td>'no'</td>\n",
       "      <td>'yes'</td>\n",
       "      <td>0.667</td>\n",
       "      <td>0.667</td>\n",
       "      <td>'yes'</td>\n",
       "      <td>2</td>\n",
       "      <td>1.56</td>\n",
       "      <td>'no'</td>\n",
       "      <td>1</td>\n",
       "      <td>0.76</td>\n",
       "      <td>3.0</td>\n",
       "    </tr>\n",
       "    <tr>\n",
       "      <th>30290</th>\n",
       "      <td>6</td>\n",
       "      <td>NaN</td>\n",
       "      <td>'yes'</td>\n",
       "      <td>NaN</td>\n",
       "      <td>1.000</td>\n",
       "      <td>'yes'</td>\n",
       "      <td>6</td>\n",
       "      <td>4.78</td>\n",
       "      <td>'no'</td>\n",
       "      <td>0</td>\n",
       "      <td>0.00</td>\n",
       "      <td>4.0</td>\n",
       "    </tr>\n",
       "    <tr>\n",
       "      <th>30292</th>\n",
       "      <td>5</td>\n",
       "      <td>'yes'</td>\n",
       "      <td>'yes'</td>\n",
       "      <td>0.200</td>\n",
       "      <td>0.800</td>\n",
       "      <td>'yes'</td>\n",
       "      <td>4</td>\n",
       "      <td>3.20</td>\n",
       "      <td>'no'</td>\n",
       "      <td>1</td>\n",
       "      <td>0.76</td>\n",
       "      <td>5.0</td>\n",
       "    </tr>\n",
       "  </tbody>\n",
       "</table>\n",
       "</div>"
      ],
      "text/plain": [
       "       Qualified Reads Correct Label Majority Label  Difficulty  Agreement  \\\n",
       "30287                4         'yes'          'yes'       0.000      1.000   \n",
       "30288                2          'no'          'yes'       1.000      1.000   \n",
       "30289                3          'no'          'yes'       0.667      0.667   \n",
       "30290                6           NaN          'yes'         NaN      1.000   \n",
       "30292                5         'yes'          'yes'       0.200      0.800   \n",
       "\n",
       "      First Choice Answer  First Choice Votes  First Choice Weight  \\\n",
       "30287               'yes'                   4                 3.18   \n",
       "30288               'yes'                   2                 1.56   \n",
       "30289               'yes'                   2                 1.56   \n",
       "30290               'yes'                   6                 4.78   \n",
       "30292               'yes'                   4                 3.20   \n",
       "\n",
       "      Second Choice Answer  Second Choice Votes  Second Choice Weight  \\\n",
       "30287                 'no'                    0                  0.00   \n",
       "30288                 'no'                    0                  0.00   \n",
       "30289                 'no'                    1                  0.76   \n",
       "30290                 'no'                    0                  0.00   \n",
       "30292                 'no'                    1                  0.76   \n",
       "\n",
       "       Expert Votes  \n",
       "30287           5.0  \n",
       "30288           2.0  \n",
       "30289           3.0  \n",
       "30290           4.0  \n",
       "30292           5.0  "
      ]
     },
     "execution_count": 147,
     "metadata": {},
     "output_type": "execute_result"
    }
   ],
   "source": [
    "results.tail()"
   ]
  },
  {
   "cell_type": "code",
   "execution_count": 148,
   "id": "7955f45b",
   "metadata": {},
   "outputs": [
    {
     "name": "stdout",
     "output_type": "stream",
     "text": [
      "count    30013.000000\n",
      "mean         3.568877\n",
      "std          1.840714\n",
      "min          0.750000\n",
      "25%          2.340000\n",
      "50%          3.220000\n",
      "75%          4.760000\n",
      "max         14.400000\n",
      "Name: First Choice Weight, dtype: float64\n"
     ]
    }
   ],
   "source": [
    "print(results[\"First Choice Weight\"].describe())"
   ]
  },
  {
   "cell_type": "code",
   "execution_count": null,
   "id": "18d66f92",
   "metadata": {},
   "outputs": [],
   "source": []
  },
  {
   "cell_type": "code",
   "execution_count": null,
   "id": "56cb362c",
   "metadata": {},
   "outputs": [],
   "source": []
  },
  {
   "cell_type": "code",
   "execution_count": null,
   "id": "504037ce",
   "metadata": {},
   "outputs": [],
   "source": []
  },
  {
   "cell_type": "code",
   "execution_count": null,
   "id": "bebc9f53",
   "metadata": {},
   "outputs": [],
   "source": []
  },
  {
   "cell_type": "code",
   "execution_count": null,
   "id": "9aa5fc10",
   "metadata": {},
   "outputs": [],
   "source": []
  },
  {
   "cell_type": "code",
   "execution_count": null,
   "id": "90b00855",
   "metadata": {},
   "outputs": [],
   "source": []
  },
  {
   "cell_type": "code",
   "execution_count": null,
   "id": "cf061534",
   "metadata": {},
   "outputs": [],
   "source": []
  },
  {
   "cell_type": "code",
   "execution_count": null,
   "id": "296e0e50",
   "metadata": {},
   "outputs": [],
   "source": []
  },
  {
   "cell_type": "code",
   "execution_count": null,
   "id": "f74d567a",
   "metadata": {},
   "outputs": [],
   "source": []
  },
  {
   "cell_type": "code",
   "execution_count": null,
   "id": "58d2a0ce",
   "metadata": {},
   "outputs": [],
   "source": []
  },
  {
   "cell_type": "code",
   "execution_count": null,
   "id": "42c7fc4c",
   "metadata": {},
   "outputs": [],
   "source": []
  }
 ],
 "metadata": {
  "kernelspec": {
   "display_name": "Python 3 (ipykernel)",
   "language": "python",
   "name": "python3"
  },
  "language_info": {
   "codemirror_mode": {
    "name": "ipython",
    "version": 3
   },
   "file_extension": ".py",
   "mimetype": "text/x-python",
   "name": "python",
   "nbconvert_exporter": "python",
   "pygments_lexer": "ipython3",
   "version": "3.11.1"
  }
 },
 "nbformat": 4,
 "nbformat_minor": 5
}
